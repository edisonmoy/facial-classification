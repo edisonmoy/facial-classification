{
 "cells": [
  {
   "cell_type": "markdown",
   "metadata": {},
   "source": [
    "###Face Detection\n",
    "\n",
    "Using OpenCV, this basic model can detect faces from uploaded images."
   ]
  },
  {
   "cell_type": "code",
   "execution_count": 1,
   "metadata": {},
   "outputs": [],
   "source": [
    "import cv2 as cv\n",
    "\n",
    "#Image path\n",
    "path = 'friends.jpg'\n",
    "\n",
    "#Import image\n",
    "img = cv.imread(path)\n",
    "\n",
    "cv.imshow('Image', cv.resize(img, (800,600)))"
   ]
  },
  {
   "cell_type": "code",
   "execution_count": 2,
   "metadata": {},
   "outputs": [],
   "source": [
    "#Convert to grayscale\n",
    "\n",
    "gs_img = cv.cvtColor(img, cv.COLOR_BGR2GRAY)\n",
    "cv.imshow('Image', cv.resize(img, (800,600)))"
   ]
  },
  {
   "cell_type": "code",
   "execution_count": 3,
   "metadata": {},
   "outputs": [],
   "source": [
    "#Import and configure classifier cascade\n",
    "\n",
    "face_cascade = cv.CascadeClassifier('haarcascade_frontalface_alt.xml')\n",
    "\n",
    "detected_faces = face_cascade.detectMultiScale(gs_img)"
   ]
  },
  {
   "cell_type": "code",
   "execution_count": 4,
   "metadata": {},
   "outputs": [],
   "source": [
    "#Draw rectangles around detected faces\n",
    "\n",
    "for (column, row, width, height) in detected_faces:\n",
    "    cv.rectangle(\n",
    "        img,\n",
    "        (column, row),\n",
    "        (column + width, row + height),\n",
    "        (0, 255, 0),\n",
    "        2\n",
    "    )\n",
    "    \n",
    "cv.imshow('Image', cv.resize(img, (800,600)))"
   ]
  }
 ],
 "metadata": {
  "kernelspec": {
   "display_name": "Python 3",
   "language": "python",
   "name": "python3"
  },
  "language_info": {
   "codemirror_mode": {
    "name": "ipython",
    "version": 3
   },
   "file_extension": ".py",
   "mimetype": "text/x-python",
   "name": "python",
   "nbconvert_exporter": "python",
   "pygments_lexer": "ipython3",
   "version": "3.6.8"
  }
 },
 "nbformat": 4,
 "nbformat_minor": 2
}
