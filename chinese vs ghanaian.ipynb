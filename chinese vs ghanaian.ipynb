{
 "cells": [
  {
   "cell_type": "code",
   "execution_count": null,
   "metadata": {},
   "outputs": [],
   "source": [
    "img_path = 'downloads'\n",
    "\n",
    "def get_size_statistics():\n",
    "    heights = []\n",
    "    widths = []\n",
    "    img_count = 0\n",
    "    for directory in os.listdir(img_path):\n",
    "        for img in directory:\n",
    "            path = os.path.join(directory, img)\n",
    "            if \"DS_Store\" not in path:\n",
    "                data = np.array(Image.open(path))\n",
    "                heights.append(data.shape[0])\n",
    "                widths.append(data.shape[1])\n",
    "                img_count += 1\n",
    "        avg_height = sum(heights) / len(heights)\n",
    "        avg_width = sum(widths) / len(widths)\n",
    "        print(\"Average Height: \" + str(avg_height))\n",
    "        print(\"Max Height: \" + str(max(heights)))\n",
    "        print(\"Min Height: \" + str(min(heights)))\n",
    "        print('\\n')\n",
    "        print(\"Average Width: \" + str(avg_width))\n",
    "        print(\"Max Width: \" + str(max(widths)))\n",
    "        print(\"Min Width: \" + str(min(widths)))\n",
    "\n",
    "get_size_statistics()"
   ]
  },
  {
   "cell_type": "code",
   "execution_count": null,
   "metadata": {},
   "outputs": [],
   "source": [
    "def label_img(directory):\n",
    "    if directory == 'chinese_people': return np.array([1, 0])\n",
    "    elif word_label == 'ghanaian_people' : return np.array([0, 1])\n"
   ]
  },
  {
   "cell_type": "code",
   "execution_count": null,
   "metadata": {},
   "outputs": [],
   "source": [
    "IMG_SIZE = 300\n",
    "    \n",
    "def load_data():\n",
    "    train_data = []\n",
    "    for directory in os.listdir(img_path):\n",
    "        for img in directory:\n",
    "            label = label_img(directory)\n",
    "            path = os.path.join(directory, img)\n",
    "            if \"DS_Store\" not in path:\n",
    "                img = Image.open(path)\n",
    "                img = img.convert('L')\n",
    "                img = img.resize((IMG_SIZE, IMG_SIZE), Image.ANTIALIAS)\n",
    "                train_data.append([np.array(img), label])\n",
    "    shuffle(train_data)\n",
    "    return train_data"
   ]
  },
  {
   "cell_type": "code",
   "execution_count": null,
   "metadata": {},
   "outputs": [],
   "source": [
    "train_data = load_training_data()\n",
    "plt.imshow(train_data[13][0], cmap = 'gist_gray')"
   ]
  },
  {
   "cell_type": "code",
   "execution_count": null,
   "metadata": {},
   "outputs": [],
   "source": [
    "trainImages = np.array([i[0] for i in train_data]).reshape(-1, IMG_SIZE, IMG_SIZE, 1)\n",
    "trainLabels = np.array([i[1] for i in train_data])"
   ]
  },
  {
   "cell_type": "code",
   "execution_count": null,
   "metadata": {},
   "outputs": [],
   "source": [
    "model = Sequential()\n",
    "model.add(Conv2D(32, kernel_size = (3, 3), activation='relu', input_shape=(IMG_SIZE, IMG_SIZE, 1)))\n",
    "model.add(MaxPooling2D(pool_size=(2,2)))\n",
    "model.add(BatchNormalization())\n",
    "model.add(Conv2D(64, kernel_size=(3,3), activation='relu'))\n",
    "model.add(MaxPooling2D(pool_size=(2,2)))\n",
    "model.add(BatchNormalization())\n",
    "model.add(Conv2D(96, kernel_size=(3,3), activation='relu'))\n",
    "model.add(MaxPooling2D(pool_size=(2,2)))\n",
    "model.add(BatchNormalization())\n",
    "model.add(Conv2D(96, kernel_size=(3,3), activation='relu'))\n",
    "model.add(MaxPooling2D(pool_size=(2,2)))\n",
    "model.add(BatchNormalization())\n",
    "model.add(Conv2D(64, kernel_size=(3,3), activation='relu'))\n",
    "model.add(MaxPooling2D(pool_size=(2,2)))\n",
    "model.add(BatchNormalization())\n",
    "model.add(Dropout(0.2))\n",
    "model.add(Flatten())\n",
    "model.add(Dense(256, activation='relu'))\n",
    "model.add(Dropout(0.2))\n",
    "model.add(Dense(128, activation='relu'))\n",
    "#model.add(Dropout(0.3))\n",
    "model.add(Dense(2, activation = 'softmax'))"
   ]
  },
  {
   "cell_type": "code",
   "execution_count": null,
   "metadata": {},
   "outputs": [],
   "source": [
    "model.compile(loss='binary_crossentropy', optimizer='adam', metrics = ['accuracy'])"
   ]
  },
  {
   "cell_type": "code",
   "execution_count": null,
   "metadata": {},
   "outputs": [],
   "source": [
    "model.fit(trainImages, trainLabels, batch_size = 50, epochs = 5, verbose = 1)"
   ]
  },
  {
   "cell_type": "code",
   "execution_count": null,
   "metadata": {},
   "outputs": [],
   "source": [
    "TEST_DIR = 'downloads/test'\n",
    "\n",
    "def load_test_data():\n",
    "    test_data = []\n",
    "    for directory in os.listdir(TEST_DIR):\n",
    "        for img in directory:\n",
    "            label = label_img(img)\n",
    "            path = os.path.join(TEST_DIR, img)\n",
    "            if \"DS_Store\" not in path:\n",
    "                img = Image.open(path)\n",
    "                img = img.convert('L')\n",
    "                img = img.resize((IMG_SIZE, IMG_SIZE), Image.ANTIALIAS)\n",
    "                test_data.append([np.array(img), label])\n",
    "    shuffle(test_data)\n",
    "    return test_data\n"
   ]
  },
  {
   "cell_type": "code",
   "execution_count": null,
   "metadata": {},
   "outputs": [],
   "source": [
    "testImages = np.array([i[0] for i in test_data]).reshape(-1, IMG_SIZE, IMG_SIZE, 1)\n",
    "testLabels = np.array([i[1] for i in test_data])\n",
    "\n",
    "loss, acc = model.evaluate(testImages, testLabels, verbose = 0)\n",
    "print(acc * 100)"
   ]
  }
 ],
 "metadata": {
  "kernelspec": {
   "display_name": "Python 3",
   "language": "python",
   "name": "python3"
  },
  "language_info": {
   "codemirror_mode": {
    "name": "ipython",
    "version": 3
   },
   "file_extension": ".py",
   "mimetype": "text/x-python",
   "name": "python",
   "nbconvert_exporter": "python",
   "pygments_lexer": "ipython3",
   "version": "3.7.3"
  }
 },
 "nbformat": 4,
 "nbformat_minor": 2
}
